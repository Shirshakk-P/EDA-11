{
  "nbformat": 4,
  "nbformat_minor": 0,
  "metadata": {
    "colab": {
      "provenance": []
    },
    "kernelspec": {
      "name": "python3",
      "display_name": "Python 3"
    },
    "language_info": {
      "name": "python"
    }
  },
  "cells": [
    {
      "cell_type": "code",
      "source": [
        "import pandas as pd"
      ],
      "metadata": {
        "id": "cfns0CjBtczf"
      },
      "execution_count": null,
      "outputs": []
    },
    {
      "cell_type": "code",
      "source": [
        "solar_data = pd.read_csv('/content/nrel_solar_data_updated.csv')\n",
        "wind_data = pd.read_csv('/contnet/wind_data_output.csv')"
      ],
      "metadata": {
        "id": "7TI9kNKLtc1-"
      },
      "execution_count": null,
      "outputs": []
    },
    {
      "cell_type": "code",
      "source": [
        "merged_data = pd.merge(solar_data, wind_data, how='inner', left_on=['country', 'city'], right_on=['country', 'city'])\n",
        "merged_data.to_csv('merged_us_city_data.csv', index=False)"
      ],
      "metadata": {
        "id": "duml0UQftc4U"
      },
      "execution_count": null,
      "outputs": []
    },
    {
      "cell_type": "code",
      "source": [
        "print(merged_data.head())"
      ],
      "metadata": {
        "id": "IQ_puQOitc67"
      },
      "execution_count": null,
      "outputs": []
    }
  ]
}